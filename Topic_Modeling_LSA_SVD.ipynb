{
 "cells": [
  {
   "cell_type": "markdown",
   "id": "e3b583ac",
   "metadata": {},
   "source": [
    "# Topic Modeling using LSA(Latent semantic analysis)"
   ]
  },
  {
   "cell_type": "code",
   "execution_count": 1,
   "id": "03d6d33d",
   "metadata": {},
   "outputs": [],
   "source": [
    "from sklearn.feature_extraction.text import CountVectorizer\n",
    "from sklearn.decomposition import TruncatedSVD\n",
    "from sklearn.feature_extraction.text import TfidfVectorizer\n",
    "import pandas as pd"
   ]
  },
  {
   "cell_type": "code",
   "execution_count": 2,
   "id": "a542437a",
   "metadata": {},
   "outputs": [],
   "source": [
    "documents = [\n",
    "    \"I love natural language processing.\",\n",
    "    \"Understanding language is fascinating.\",\n",
    "    \"Processing language data is essential.\"\n",
    "]"
   ]
  },
  {
   "cell_type": "code",
   "execution_count": 3,
   "id": "3aab7b65",
   "metadata": {},
   "outputs": [],
   "source": [
    "# Create a document-term matrix using TF-IDF representation\n",
    "vectorizer = TfidfVectorizer(stop_words='english')\n",
    "X = vectorizer.fit_transform(documents)"
   ]
  },
  {
   "cell_type": "code",
   "execution_count": 4,
   "id": "c6bdec6f",
   "metadata": {},
   "outputs": [],
   "source": [
    "# Apply Latent Semantic Analysis (LSA)\n",
    "num_topics = 2\n",
    "lsa_model = TruncatedSVD(n_components=num_topics)\n",
    "lsa_topic_matrix = lsa_model.fit_transform(X)"
   ]
  },
  {
   "cell_type": "code",
   "execution_count": 5,
   "id": "eebc5f4f",
   "metadata": {},
   "outputs": [
    {
     "data": {
      "text/plain": [
       "array(['data', 'essential', 'fascinating', 'language', 'love', 'natural',\n",
       "       'processing', 'understanding'], dtype=object)"
      ]
     },
     "execution_count": 5,
     "metadata": {},
     "output_type": "execute_result"
    }
   ],
   "source": [
    "# Display the topics\n",
    "terms = vectorizer.get_feature_names_out()\n",
    "terms"
   ]
  },
  {
   "cell_type": "code",
   "execution_count": 6,
   "id": "6ee7afa5",
   "metadata": {},
   "outputs": [
    {
     "data": {
      "text/plain": [
       "['Topic 1', 'Topic 2']"
      ]
     },
     "execution_count": 6,
     "metadata": {},
     "output_type": "execute_result"
    }
   ],
   "source": [
    "topic_names = [f\"Topic {i + 1}\" for i in range(num_topics)]\n",
    "topic_names"
   ]
  },
  {
   "cell_type": "code",
   "execution_count": 7,
   "id": "b358bd2d",
   "metadata": {},
   "outputs": [
    {
     "data": {
      "text/html": [
       "<div>\n",
       "<style scoped>\n",
       "    .dataframe tbody tr th:only-of-type {\n",
       "        vertical-align: middle;\n",
       "    }\n",
       "\n",
       "    .dataframe tbody tr th {\n",
       "        vertical-align: top;\n",
       "    }\n",
       "\n",
       "    .dataframe thead th {\n",
       "        text-align: right;\n",
       "    }\n",
       "</style>\n",
       "<table border=\"1\" class=\"dataframe\">\n",
       "  <thead>\n",
       "    <tr style=\"text-align: right;\">\n",
       "      <th></th>\n",
       "      <th>Topic 1</th>\n",
       "      <th>Topic 2</th>\n",
       "    </tr>\n",
       "  </thead>\n",
       "  <tbody>\n",
       "    <tr>\n",
       "      <th>data</th>\n",
       "      <td>0.316202</td>\n",
       "      <td>-0.182537</td>\n",
       "    </tr>\n",
       "    <tr>\n",
       "      <th>essential</th>\n",
       "      <td>0.316202</td>\n",
       "      <td>-0.182537</td>\n",
       "    </tr>\n",
       "    <tr>\n",
       "      <th>fascinating</th>\n",
       "      <td>0.232297</td>\n",
       "      <td>0.619308</td>\n",
       "    </tr>\n",
       "    <tr>\n",
       "      <th>language</th>\n",
       "      <td>0.510706</td>\n",
       "      <td>0.150154</td>\n",
       "    </tr>\n",
       "    <tr>\n",
       "      <th>love</th>\n",
       "      <td>0.316202</td>\n",
       "      <td>-0.182537</td>\n",
       "    </tr>\n",
       "    <tr>\n",
       "      <th>natural</th>\n",
       "      <td>0.316202</td>\n",
       "      <td>-0.182537</td>\n",
       "    </tr>\n",
       "    <tr>\n",
       "      <th>processing</th>\n",
       "      <td>0.480959</td>\n",
       "      <td>-0.277649</td>\n",
       "    </tr>\n",
       "    <tr>\n",
       "      <th>understanding</th>\n",
       "      <td>0.232297</td>\n",
       "      <td>0.619308</td>\n",
       "    </tr>\n",
       "  </tbody>\n",
       "</table>\n",
       "</div>"
      ],
      "text/plain": [
       "                Topic 1   Topic 2\n",
       "data           0.316202 -0.182537\n",
       "essential      0.316202 -0.182537\n",
       "fascinating    0.232297  0.619308\n",
       "language       0.510706  0.150154\n",
       "love           0.316202 -0.182537\n",
       "natural        0.316202 -0.182537\n",
       "processing     0.480959 -0.277649\n",
       "understanding  0.232297  0.619308"
      ]
     },
     "execution_count": 7,
     "metadata": {},
     "output_type": "execute_result"
    }
   ],
   "source": [
    "df_topics = pd.DataFrame(lsa_model.components_, columns=terms, index=topic_names).T\n",
    "df_topics"
   ]
  },
  {
   "cell_type": "code",
   "execution_count": 8,
   "id": "a960b51c",
   "metadata": {},
   "outputs": [
    {
     "name": "stdout",
     "output_type": "stream",
     "text": [
      "Document-Term Matrix:\n",
      "       data  essential  fascinating  language      love   natural  processing  \\\n",
      "0  0.000000   0.000000     0.000000  0.345205  0.584483  0.584483    0.444514   \n",
      "1  0.000000   0.000000     0.652491  0.385372  0.000000  0.000000    0.000000   \n",
      "2  0.584483   0.584483     0.000000  0.345205  0.000000  0.000000    0.444514   \n",
      "\n",
      "   understanding  \n",
      "0       0.000000  \n",
      "1       0.652491  \n",
      "2       0.000000  \n"
     ]
    }
   ],
   "source": [
    "print(\"Document-Term Matrix:\")\n",
    "print(pd.DataFrame(X.toarray(), columns=vectorizer.get_feature_names_out()))"
   ]
  },
  {
   "cell_type": "code",
   "execution_count": 9,
   "id": "d9e9b907",
   "metadata": {},
   "outputs": [
    {
     "name": "stdout",
     "output_type": "stream",
     "text": [
      "\n",
      "LSA Topic Matrix:\n",
      "                Topic 1   Topic 2\n",
      "data           0.316202 -0.182537\n",
      "essential      0.316202 -0.182537\n",
      "fascinating    0.232297  0.619308\n",
      "language       0.510706  0.150154\n",
      "love           0.316202 -0.182537\n",
      "natural        0.316202 -0.182537\n",
      "processing     0.480959 -0.277649\n",
      "understanding  0.232297  0.619308\n"
     ]
    }
   ],
   "source": [
    "print(\"\\nLSA Topic Matrix:\")\n",
    "print(df_topics)"
   ]
  },
  {
   "cell_type": "code",
   "execution_count": 10,
   "id": "18d0417c",
   "metadata": {},
   "outputs": [
    {
     "name": "stdout",
     "output_type": "stream",
     "text": [
      "\n",
      "Document-Topic Matrix:\n",
      "    Topic 1   Topic 2\n",
      "0  0.759720 -0.284965\n",
      "1  0.499955  0.866051\n",
      "2  0.759720 -0.284965\n"
     ]
    }
   ],
   "source": [
    "# Optional: Visualize the document-topic matrix\n",
    "df_document_topics = pd.DataFrame(lsa_topic_matrix, columns=topic_names)\n",
    "print(\"\\nDocument-Topic Matrix:\")\n",
    "print(df_document_topics)"
   ]
  }
 ],
 "metadata": {
  "kernelspec": {
   "display_name": "Python 3 (ipykernel)",
   "language": "python",
   "name": "python3"
  },
  "language_info": {
   "codemirror_mode": {
    "name": "ipython",
    "version": 3
   },
   "file_extension": ".py",
   "mimetype": "text/x-python",
   "name": "python",
   "nbconvert_exporter": "python",
   "pygments_lexer": "ipython3",
   "version": "3.11.4"
  }
 },
 "nbformat": 4,
 "nbformat_minor": 5
}
